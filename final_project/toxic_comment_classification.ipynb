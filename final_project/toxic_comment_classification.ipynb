{
  "nbformat": 4,
  "nbformat_minor": 0,
  "metadata": {
    "colab": {
      "name": "toxic_comment_classification.ipynb",
      "provenance": []
    },
    "kernelspec": {
      "name": "python3",
      "display_name": "Python 3"
    },
    "language_info": {
      "name": "python"
    },
    "accelerator": "GPU"
  },
  "cells": [
    {
      "cell_type": "markdown",
      "source": [
        "# Import libraries"
      ],
      "metadata": {
        "id": "G3ErA6hOZxa3"
      }
    },
    {
      "cell_type": "code",
      "execution_count": null,
      "metadata": {
        "colab": {
          "base_uri": "https://localhost:8080/"
        },
        "id": "_zLw2umvVWTS",
        "outputId": "fde12c13-d121-44cd-f40a-2606dcd61e25"
      },
      "outputs": [
        {
          "output_type": "stream",
          "name": "stdout",
          "text": [
            "Drive already mounted at /content/drive; to attempt to forcibly remount, call drive.mount(\"/content/drive\", force_remount=True).\n",
            "Dataset Loaded Successfully\n"
          ]
        }
      ],
      "source": [
        "import numpy as np\n",
        "import pandas as pd\n",
        "from tqdm import tqdm\n",
        "import numpy as np\n",
        "import matplotlib.pyplot as plt\n",
        "import seaborn as sns\n",
        "import collections\n",
        "import regex as re\n",
        "from keras.preprocessing.text import Tokenizer\n",
        "from keras.preprocessing.sequence import pad_sequences\n",
        "\n",
        "# Connect Drive\n",
        "from google.colab import drive\n",
        "drive.mount('/content/drive')\n",
        "\n",
        "# Import data\n",
        "train = pd.read_csv(\"/content/drive/My Drive/train.csv\")\n",
        "test = pd.read_csv(\"/content/drive/My Drive/test.csv\")\n",
        "print('Dataset Loaded Successfully')\n",
        "\n",
        "# Load glove dataset\n",
        "gl_ds = open(\"/content/drive/My Drive/glove.6B.100d.txt\")\n",
        "#Global Variables\n",
        "ip_addresses_count = 0"
      ]
    },
    {
      "cell_type": "markdown",
      "source": [
        "[link text](https://)#  [Extracting Labels and Data]\n",
        "\n"
      ],
      "metadata": {
        "id": "ar4MLmQ8fSOd"
      }
    },
    {
      "cell_type": "code",
      "source": [
        "# Extract data\n",
        "X_train = train[\"comment_text\"].fillna(\"__NaNNaNNaN__\").values\n",
        "X_test = test[\"comment_text\"].fillna(\"__NaNNaNNaN__\").values\n",
        "\n",
        "# Extract labels\n",
        "list_classes = [\"toxic\", \"severe_toxic\", \"obscene\", \"threat\", \"insult\", \"identity_hate\"]\n",
        "y_train = train[list_classes].values\n"
      ],
      "metadata": {
        "id": "nYV20tdHfump"
      },
      "execution_count": null,
      "outputs": []
    },
    {
      "cell_type": "markdown",
      "source": [
        "# Exploratory Data Analysis"
      ],
      "metadata": {
        "id": "Gg0uSMhIZ2S-"
      }
    },
    {
      "cell_type": "markdown",
      "source": [
        "## Null Value Analysis"
      ],
      "metadata": {
        "id": "COisJGIdcFT_"
      }
    },
    {
      "cell_type": "code",
      "source": [
        "def calculate_null_percentage(column):\n",
        "    df_name = column.name\n",
        "    nans = np.count_nonzero(column.isnull().values)\n",
        "    total = column.size\n",
        "    frac = nans / total\n",
        "    perc = int(frac * 100)\n",
        "    print('{}% or {} missing from {} column.'.format(perc, nans, df_name))\n",
        "\n",
        "def check_null(df, columns):\n",
        "    for col in columns:\n",
        "        calculate_null_percentage(df[col])\n",
        "\n",
        "check_null(train,train.columns)"
      ],
      "metadata": {
        "colab": {
          "base_uri": "https://localhost:8080/"
        },
        "id": "MdP1hO10aEaM",
        "outputId": "6aa2cf1a-8eed-4b32-cb97-84b55461c19e"
      },
      "execution_count": null,
      "outputs": [
        {
          "output_type": "stream",
          "name": "stdout",
          "text": [
            "0% or 0 missing from id column.\n",
            "0% or 0 missing from comment_text column.\n",
            "0% or 0 missing from toxic column.\n",
            "0% or 0 missing from severe_toxic column.\n",
            "0% or 0 missing from obscene column.\n",
            "0% or 0 missing from threat column.\n",
            "0% or 0 missing from insult column.\n",
            "0% or 0 missing from identity_hate column.\n"
          ]
        }
      ]
    },
    {
      "cell_type": "markdown",
      "source": [
        "## Labels and Records Analysis"
      ],
      "metadata": {
        "id": "BexhKf7PcKda"
      }
    },
    {
      "cell_type": "code",
      "source": [
        "def analyse_labels_and_records(df):\n",
        "  print('{} features and {} records.\\n'.format(df.shape[1], df.shape[0]))\n",
        "  targets = list(df.columns[2:])\n",
        "  print('Target Labels: ' + ', '.join(targets))\n",
        "\n",
        "analyse_labels_and_records(train)"
      ],
      "metadata": {
        "colab": {
          "base_uri": "https://localhost:8080/"
        },
        "id": "r0WuuCRycOIU",
        "outputId": "ef312d30-d1ac-451c-cc36-9fa3f10f8fb4"
      },
      "execution_count": null,
      "outputs": [
        {
          "output_type": "stream",
          "name": "stdout",
          "text": [
            "8 features and 159571 records.\n",
            "\n",
            "Target Labels: toxic, severe_toxic, obscene, threat, insult, identity_hate\n"
          ]
        }
      ]
    },
    {
      "cell_type": "markdown",
      "source": [
        "## Head of train dataset"
      ],
      "metadata": {
        "id": "su4raYjzckBs"
      }
    },
    {
      "cell_type": "code",
      "source": [
        "for i in range(3):\n",
        "    print('Comment #{}:  {}'.format(i + 1, X_train[i]))\n",
        "    print('Label #{}:    {}'.format(i + 1, y_train[i]))\n",
        "    print()"
      ],
      "metadata": {
        "colab": {
          "base_uri": "https://localhost:8080/"
        },
        "id": "eXTKLio5cmXK",
        "outputId": "7749c99f-0f6b-4eff-cea4-4b955748cdd3"
      },
      "execution_count": null,
      "outputs": [
        {
          "output_type": "stream",
          "name": "stdout",
          "text": [
            "Comment #1:  Explanation\n",
            "Why the edits made under my username Hardcore Metallica Fan were reverted? They weren't vandalisms, just closure on some GAs after I voted at New York Dolls FAC. And please don't remove the template from the talk page since I'm retired now.89.205.38.27\n",
            "Label #1:    [0 0 0 0 0 0]\n",
            "\n",
            "Comment #2:  D'aww! He matches this background colour I'm seemingly stuck with. Thanks.  (talk) 21:51, January 11, 2016 (UTC)\n",
            "Label #2:    [0 0 0 0 0 0]\n",
            "\n",
            "Comment #3:  Hey man, I'm really not trying to edit war. It's just that this guy is constantly removing relevant information and talking to me through edits instead of my talk page. He seems to care more about the formatting than the actual info.\n",
            "Label #3:    [0 0 0 0 0 0]\n",
            "\n"
          ]
        }
      ]
    },
    {
      "cell_type": "markdown",
      "source": [
        "## Heatmap of the features"
      ],
      "metadata": {
        "id": "PfRw5KsZiY0k"
      }
    },
    {
      "cell_type": "code",
      "source": [
        "def draw_heatmap(df, title):\n",
        "    plt.figure('heatmap', figsize=[10,10])\n",
        "    plt.title(title)\n",
        "    df_corr = df.corr()\n",
        "    sns.heatmap(df_corr, vmax=0.6, square=True, annot=True, cmap='YlOrRd')\n",
        "    plt.yticks(rotation = 45)\n",
        "    plt.xticks(rotation = 45)\n",
        "    plt.show()\n",
        "\n",
        "targets = list(train.columns[2:])\n",
        "labels = train[targets].copy()\n",
        "draw_heatmap(labels, 'Comment Type Heatmap')"
      ],
      "metadata": {
        "colab": {
          "base_uri": "https://localhost:8080/",
          "height": 591
        },
        "id": "Sq_ItV7vibFH",
        "outputId": "19e5987e-8ba7-44f8-dba7-4ca6cf0ceb5e"
      },
      "execution_count": null,
      "outputs": [
        {
          "output_type": "display_data",
          "data": {
            "text/plain": [
              "<Figure size 720x720 with 2 Axes>"
            ],
            "image/png": "[encoded data removed]"
          },
          "metadata": {
            "needs_background": "light"
          }
        }
      ]
    },
    {
      "cell_type": "markdown",
      "source": [
        "## Class wise count of records"
      ],
      "metadata": {
        "id": "XCzI9h3ij4QI"
      }
    },
    {
      "cell_type": "code",
      "source": [
        "def count_labels():\n",
        "  count_track = {}\n",
        "  for comment_type in targets:\n",
        "      counts = list()\n",
        "      others = list(labels)\n",
        "      selection = labels[(labels[comment_type]==1)]\n",
        "      others.remove(comment_type)\n",
        "      counts.append(('total', len(selection)))\n",
        "      for other in others:\n",
        "          counts.append((other, selection[other].sum()))\n",
        "      count_track[comment_type] = counts\n",
        "  total_values = []\n",
        "  for key, value in count_track.items():\n",
        "    total_values.append(value[0][1])\n",
        "  return count_track,total_values\n",
        "\n",
        "labels_count,values = count_labels()\n",
        "plt.figure('Label Counts', figsize=[8,6])\n",
        "plt.title('Label Counts')\n",
        "sns.barplot(x=list(labels_count.keys()), y=values)\n",
        "plt.show()"
      ],
      "metadata": {
        "colab": {
          "base_uri": "https://localhost:8080/",
          "height": 391
        },
        "id": "7qk8PEOyj9hW",
        "outputId": "7ebb5e71-bee4-49eb-989b-c31ba8c1c5e1"
      },
      "execution_count": null,
      "outputs": [
        {
          "output_type": "display_data",
          "data": {
            "text/plain": [
              "<Figure size 576x432 with 1 Axes>"
            ],
            "image/png": "[encoded data removed]"
          },
          "metadata": {
            "needs_background": "light"
          }
        }
      ]
    },
    {
      "cell_type": "markdown",
      "source": [
        "## Vocabulary Exploration"
      ],
      "metadata": {
        "id": "Yb2lAWOvls1K"
      }
    },
    {
      "cell_type": "code",
      "source": [
        "def explore_vocab():\n",
        "  each_word_counter = collections.Counter([word for sentence in tqdm(X_train, total=len(X_train)) \\\n",
        "                                                              for word in sentence.split()])\n",
        "\n",
        "  print('There are {} words.'.format(len([word for sentence in X_train for word in sentence.split()])))\n",
        "  print('There are {} unique words'.format(len(each_word_counter)))\n",
        "  print('Top 10 common words in the dataset are:')\n",
        "  print('\"' + '\" \"'.join(list(zip(*each_word_counter.most_common(10)))[0]) + '\"')\n",
        "\n",
        "explore_vocab()"
      ],
      "metadata": {
        "colab": {
          "base_uri": "https://localhost:8080/"
        },
        "id": "8SYCOoOJlwJH",
        "outputId": "6062fee8-774f-4bd2-9c12-ad7776992816"
      },
      "execution_count": null,
      "outputs": [
        {
          "output_type": "stream",
          "name": "stderr",
          "text": [
            "100%|██████████| 159571/159571 [00:02<00:00, 57611.49it/s]\n"
          ]
        },
        {
          "output_type": "stream",
          "name": "stdout",
          "text": [
            "There are 10734904 words.\n",
            "There are 532299 unique words\n",
            "Top 10 common words in the dataset are:\n",
            "\"the\" \"to\" \"of\" \"and\" \"a\" \"I\" \"is\" \"you\" \"that\" \"in\"\n"
          ]
        }
      ]
    },
    {
      "cell_type": "markdown",
      "source": [
        "# Preprocessing Data\n",
        "\n",
        "There are four important steps in pre-processing:\n",
        "\n",
        "\n",
        "1.   Remove unwanted data such as special characters, ip-addresses.\n",
        "2.   Make all words same case preferrably lower-case\n",
        "3.   Tokenize the words so that Neural Network can understand what's happening with the input data\n",
        "4.   Make all the sentences equal in length by padding zeros.\n",
        "\n"
      ],
      "metadata": {
        "id": "OKb3_6tQomGS"
      }
    },
    {
      "cell_type": "markdown",
      "source": [
        "## Strip IP address"
      ],
      "metadata": {
        "id": "bGepJnWvudW2"
      }
    },
    {
      "cell_type": "code",
      "source": [
        "def strip_ip(s, ip):\n",
        "        try:\n",
        "            found = ip.search(s)\n",
        "            gr = found.group()\n",
        "            global ip_addresses_count\n",
        "            ip_addresses_count += 1\n",
        "            return s.replace(gr, ' ')\n",
        "        except:\n",
        "            return s\n",
        "\n",
        "# Ref: https://www.oreilly.com/library/view/regular-expressions-cookbook/9780596802837/ch07s16.html\n",
        "ip = re.compile('(([2][5][0-5]\\.)|([2][0-4][0-9]\\.)|([0-1]?[0-9]?[0-9]\\.)){3}'\n",
        "                    +'(([2][5][0-5])|([2][0-4][0-9])|([0-1]?[0-9]?[0-9]))')\n",
        "\n",
        "def print_info_message(label):\n",
        "  global ip_addresses_count\n",
        "  if ip_addresses_count == 0:\n",
        "    print(\"No IP addresses found in {}!\".format(label))\n",
        "  else:\n",
        "    print(\"{} IP addresses found in {} and replaced with \\' \\'\".format(ip_addresses_count,label))\n",
        "    \n",
        "X_train = [strip_ip(comment,ip) for comment in X_train]\n",
        "print_info_message('X_train')\n",
        "X_test = [strip_ip(comment,ip) for comment in X_test]\n",
        "print_info_message('X_test')\n"
      ],
      "metadata": {
        "colab": {
          "base_uri": "https://localhost:8080/"
        },
        "id": "FPOY8jXLugYi",
        "outputId": "1efcd999-625b-4bce-c2c5-2e64d53d938e"
      },
      "execution_count": null,
      "outputs": [
        {
          "output_type": "stream",
          "name": "stdout",
          "text": [
            "10081 IP addresses found in X_train and replaced with ' '\n",
            "10833 IP addresses found in X_test and replaced with ' '\n"
          ]
        }
      ]
    },
    {
      "cell_type": "markdown",
      "source": [
        "## Tokenize the dataset to remove special characters and convert all the characters to lower case\n",
        "\n",
        "* Why this approach? Ref: https://developers.google.com/machine-learning/guides/text-classification/step-3#sequence_vectors_option_b\n",
        "\n",
        "*   Find the maximum length of all the words by adding mean of the word length to the thrice of the standard deviation. \n",
        "*   Why should we multiply to the thrice of the standard deviation?\n",
        "- Ref: McClelland, Robert. (2015). Re: Why should we multiply the standard deviation by 3 when we calculate the limit of detection?. Retrieved from: https://www.researchgate.net/post/Why_should_we_multiply_the_standard_deviation_by_3_when_we_calculate_the_limit_of_detection/56432e2b0f365f2ee78b4567/citation/download.\n",
        "\n"
      ],
      "metadata": {
        "id": "dHdCbW4k8aFM"
      }
    },
    {
      "cell_type": "code",
      "source": [
        "tokenizer = Tokenizer(num_words=None,\n",
        "                      filters='!\"#$%&()*+,-./:;<=>?@[\\\\]^_`{|}~\\t\\n', # filter the special characters\n",
        "                      lower=True, # convert all characters to lower case\n",
        "                      split=\" \", # split the characters by space for tokenizing\n",
        "                      char_level=False) # operate the tokenizer on word level not on character level since we are interested in the words that make the comment toxic and not the characters.\n",
        "\n",
        "# Fit and run tokenizer to reduce the vocab size. We reduce the vocab size for making the vectorizer effecient.\n",
        "tokenizer.fit_on_texts(list(X_train))\n",
        "tokenized_train = tokenizer.texts_to_sequences(X_train)\n",
        "tokenized_test = tokenizer.texts_to_sequences(X_test)\n",
        "word_index = tokenizer.word_index\n",
        "\n",
        "# Get the vocab size\n",
        "vocab_size = len(word_index)\n",
        "\n",
        "# find the longest word\n",
        "longest = max(len(seq) for seq in tokenized_train)\n",
        "\n",
        "# find the average word length\n",
        "average = np.mean([len(seq) for seq in tokenized_train])\n",
        "\n",
        "# find the standard deviation of the word length\n",
        "standard_dev = np.std([len(seq) for seq in tokenized_train])\n",
        "\n",
        "# Multiply standard_dev by 3 and add to the average to get the appropriate maximum length\n",
        "max_len = int(average + standard_dev * 3)\n",
        "\n"
      ],
      "metadata": {
        "id": "DYl0CVNB8tDW"
      },
      "execution_count": null,
      "outputs": []
    },
    {
      "cell_type": "markdown",
      "source": [
        "## Pad the sentences with zeros if short in length"
      ],
      "metadata": {
        "id": "rOr0cL-f_3pV"
      }
    },
    {
      "cell_type": "code",
      "source": [
        "# Pad the train data\n",
        "processed_X_train = pad_sequences(tokenized_train, maxlen=max_len, padding='post', truncating='post')\n",
        "\n",
        "# Pad the test data\n",
        "processed_X_test = pad_sequences(tokenized_test, maxlen=max_len, padding='post', truncating='post')\n",
        "\n",
        "# Comparing the vocab size\n",
        "\n",
        "print(\"Before tokenizing the vocab size was: \",10734904)\n",
        "print(\"After tokenizing the vocab size is: \",vocab_size)"
      ],
      "metadata": {
        "colab": {
          "base_uri": "https://localhost:8080/"
        },
        "id": "qgrY9bli_8xw",
        "outputId": "448f7054-018d-4ef1-bfaa-c90f11adc7b8"
      },
      "execution_count": null,
      "outputs": [
        {
          "output_type": "stream",
          "name": "stdout",
          "text": [
            "Before tokenizing the vocab size was:  10734904\n",
            "After tokenizing the vocab size is:  210065\n"
          ]
        }
      ]
    },
    {
      "cell_type": "markdown",
      "source": [
        "## Embedding text\n",
        "\n",
        "Now that we have tokenized each word, we will have to encode the text for feeding into the model. This can be done by using GloVe embedding"
      ],
      "metadata": {
        "id": "t-0vJLABcD3g"
      }
    },
    {
      "cell_type": "code",
      "source": [
        "embedding_idx = dict()\n",
        "for every_line in gl_ds:\n",
        "  values = every_line.split()\n",
        "  word = values[0]\n",
        "  coefs = np.asarray(values[1:],dtype='float32')\n",
        "  embedding_idx[word] = coefs\n",
        "\n",
        "gl_ds.close()"
      ],
      "metadata": {
        "id": "ysfxHZ7hcRGJ"
      },
      "execution_count": null,
      "outputs": []
    },
    {
      "cell_type": "markdown",
      "source": [
        "### Create Embedding matrix"
      ],
      "metadata": {
        "id": "W-lMvSXJd2jl"
      }
    },
    {
      "cell_type": "code",
      "source": [
        "embedding_matrix = np.zeros((len(word_index) + 1, 100))\n",
        "for word, i in word_index.items():\n",
        "    embedding_vector = embedding_idx.get(word)\n",
        "    if embedding_vector is not None:\n",
        "        embedding_matrix[i] = embedding_vector"
      ],
      "metadata": {
        "id": "c9uSCm72d4_m"
      },
      "execution_count": null,
      "outputs": []
    },
    {
      "cell_type": "markdown",
      "source": [
        "## Modeling using GloVe embedded text"
      ],
      "metadata": {
        "id": "ZWOOexWueJIP"
      }
    },
    {
      "cell_type": "code",
      "source": [
        "import keras.backend\n",
        "from keras.models import Sequential\n",
        "from keras.layers import CuDNNGRU, Dense, Conv1D, MaxPooling1D\n",
        "from keras.layers import Dropout, GlobalMaxPooling1D, BatchNormalization\n",
        "from keras.layers import Bidirectional\n",
        "from keras.layers.embeddings import Embedding\n",
        "from tensorflow.keras.optimizers import Nadam\n",
        "\n",
        "embedding_dim= 100\n",
        "# Initate model\n",
        "model = Sequential()\n",
        "\n",
        "\n",
        "# Add Embedding layer\n",
        "model.add(Embedding(vocab_size + 1, embedding_dim, weights=[embedding_matrix],\n",
        "                    input_length=max_len, trainable=True))\n",
        "\n",
        "# Add Recurrent layers\n",
        "model.add(Bidirectional(CuDNNGRU(300, return_sequences=True)))\n",
        "\n",
        "# Add Convolutional layer\n",
        "model.add(Conv1D(filters=128, kernel_size=5, padding='same', activation='relu'))\n",
        "model.add(MaxPooling1D(3))\n",
        "model.add(GlobalMaxPooling1D())\n",
        "model.add(BatchNormalization())\n",
        "\n",
        "# Add fully connected layers\n",
        "model.add(Dense(50, activation='relu'))\n",
        "model.add(Dropout(0.3))\n",
        "model.add(Dense(6, activation='sigmoid'))\n",
        "\n",
        "# Summarize the model\n",
        "model.summary()"
      ],
      "metadata": {
        "colab": {
          "base_uri": "https://localhost:8080/"
        },
        "id": "yXTYh_dPeQdc",
        "outputId": "5655f0c8-3a79-45d7-d091-79a4d10451a6"
      },
      "execution_count": null,
      "outputs": [
        {
          "output_type": "stream",
          "name": "stdout",
          "text": [
            "Model: \"sequential_1\"\n",
            "_________________________________________________________________\n",
            " Layer (type)                Output Shape              Param #   \n",
            "=================================================================\n",
            " embedding_1 (Embedding)     (None, 370, 100)          21006600  \n",
            "                                                                 \n",
            " bidirectional_1 (Bidirectio  (None, 370, 600)         723600    \n",
            " nal)                                                            \n",
            "                                                                 \n",
            " conv1d_1 (Conv1D)           (None, 370, 128)          384128    \n",
            "                                                                 \n",
            " max_pooling1d_1 (MaxPooling  (None, 123, 128)         0         \n",
            " 1D)                                                             \n",
            "                                                                 \n",
            " global_max_pooling1d_1 (Glo  (None, 128)              0         \n",
            " balMaxPooling1D)                                                \n",
            "                                                                 \n",
            " batch_normalization_1 (Batc  (None, 128)              512       \n",
            " hNormalization)                                                 \n",
            "                                                                 \n",
            " dense_2 (Dense)             (None, 50)                6450      \n",
            "                                                                 \n",
            " dropout_1 (Dropout)         (None, 50)                0         \n",
            "                                                                 \n",
            " dense_3 (Dense)             (None, 6)                 306       \n",
            "                                                                 \n",
            "=================================================================\n",
            "Total params: 22,121,596\n",
            "Trainable params: 22,121,340\n",
            "Non-trainable params: 256\n",
            "_________________________________________________________________\n"
          ]
        }
      ]
    },
    {
      "cell_type": "markdown",
      "source": [
        "### Compile the model"
      ],
      "metadata": {
        "id": "zSxTNkM7gNTZ"
      }
    },
    {
      "cell_type": "code",
      "source": [
        "import tensorflow as tf\n",
        "def loss(y_true, y_pred):\n",
        "     return keras.backend.binary_crossentropy(y_true, y_pred)\n",
        "\n",
        "lr = .0001\n",
        "model.compile(loss=tf.keras.losses.BinaryCrossentropy(from_logits=False), optimizer=Nadam(lr=lr, clipnorm=1.0),\n",
        "              metrics=['binary_accuracy'])\n"
      ],
      "metadata": {
        "colab": {
          "base_uri": "https://localhost:8080/"
        },
        "id": "Ym3RjIpkgOsr",
        "outputId": "98e7e1e8-313e-40c8-9978-b4f60d6c0b56"
      },
      "execution_count": null,
      "outputs": [
        {
          "output_type": "stream",
          "name": "stderr",
          "text": [
            "/usr/local/lib/python3.7/dist-packages/keras/optimizer_v2/nadam.py:73: UserWarning: The `lr` argument is deprecated, use `learning_rate` instead.\n",
            "  super(Nadam, self).__init__(name, **kwargs)\n"
          ]
        }
      ]
    },
    {
      "cell_type": "markdown",
      "source": [
        "### Metrics of the model"
      ],
      "metadata": {
        "id": "8FHRenFBhQJC"
      }
    },
    {
      "cell_type": "code",
      "source": [
        "from sklearn.model_selection import train_test_split\n",
        "from sklearn.metrics import roc_auc_score\n",
        "from keras.callbacks import Callback\n",
        "\n",
        "class RocAucEvaluation(Callback):\n",
        "    def __init__(self, filepath, validation_data=(), interval=1, max_epoch = 100):\n",
        "        super(Callback, self).__init__()\n",
        "        # Initialize state variables\n",
        "        self.interval = interval\n",
        "        self.filepath = filepath\n",
        "        self.stopped_epoch = max_epoch\n",
        "        self.best = 0\n",
        "        self.X_val, self.y_val = validation_data\n",
        "        self.y_pred = np.zeros(self.y_val.shape)\n",
        "\n",
        "    def on_epoch_end(self, epoch, logs={}):\n",
        "        if epoch % self.interval == 0:\n",
        "            y_pred = self.model.predict(self.X_val, verbose=0)\n",
        "            current = roc_auc_score(self.y_val, y_pred)\n",
        "            logs['roc_auc_val'] = current\n",
        "\n",
        "            if current > self.best: #save model\n",
        "                print(\"AUC improved from {:.5f} to {:.5f}\".format(self.best, current))\n",
        "                self.best = current\n",
        "                self.y_pred = y_pred\n",
        "                self.stopped_epoch = epoch+1\n",
        "                self.model.save(self.filepath, overwrite=True)\n",
        "            else:\n",
        "                print(\"AUC did not improve\")\n",
        "            \n",
        "[X, X_val, y, y_val] = train_test_split(processed_X_train, y_train, test_size=0.03, shuffle=False)\n",
        "RocAuc = RocAucEvaluation(filepath='/content/drive/My Drive/saved_models/model.best.hdf5',validation_data=(X_val, y_val), interval=1)"
      ],
      "metadata": {
        "id": "E16VeXXzhSO7"
      },
      "execution_count": null,
      "outputs": []
    },
    {
      "cell_type": "markdown",
      "source": [
        "### Training the model"
      ],
      "metadata": {
        "id": "Z4xNArH0hc1h"
      }
    },
    {
      "cell_type": "code",
      "source": [
        "from keras.callbacks import EarlyStopping, ModelCheckpoint\n",
        "\n",
        "# Set variables\n",
        "batch_size = 64\n",
        "epochs = 100\n",
        "\n",
        "# Set early stopping\n",
        "early_stop = EarlyStopping(monitor=\"roc_auc_val\", mode=\"max\", patience=2)\n",
        "                                                    \n",
        "# Train\n",
        "X = X.astype(np.float32)\n",
        "y = y.astype(np.float32)\n",
        "graph = model.fit(X, y, batch_size=batch_size, epochs=epochs,\n",
        "                  validation_data=(X_val, y_val), callbacks=[RocAuc, early_stop],\n",
        "                  verbose=2, shuffle=False)"
      ],
      "metadata": {
        "colab": {
          "base_uri": "https://localhost:8080/"
        },
        "id": "TUbRpKmTheef",
        "outputId": "7163898d-656f-4926-f1a3-6764f0619354"
      },
      "execution_count": null,
      "outputs": [
        {
          "output_type": "stream",
          "name": "stdout",
          "text": [
            "Epoch 1/100\n",
            " - AUC - improved from 0.00000 to 0.98013\n",
            "2419/2419 - 225s - loss: 0.0477 - binary_accuracy: 0.9824 - val_loss: 0.0479 - val_binary_accuracy: 0.9833 - roc_auc_val: 0.9801 - 225s/epoch - 93ms/step\n",
            "Epoch 2/100\n",
            " - AUC - improved from 0.98013 to 0.98384\n",
            "2419/2419 - 228s - loss: 0.0441 - binary_accuracy: 0.9834 - val_loss: 0.0458 - val_binary_accuracy: 0.9834 - roc_auc_val: 0.9838 - 228s/epoch - 94ms/step\n",
            "Epoch 3/100\n",
            " - AUC - did not improve\n",
            "2419/2419 - 228s - loss: 0.0409 - binary_accuracy: 0.9844 - val_loss: 0.0468 - val_binary_accuracy: 0.9835 - roc_auc_val: 0.9835 - 228s/epoch - 94ms/step\n",
            "Epoch 4/100\n",
            " - AUC - improved from 0.98384 to 0.98444\n",
            "2419/2419 - 228s - loss: 0.0379 - binary_accuracy: 0.9853 - val_loss: 0.0492 - val_binary_accuracy: 0.9825 - roc_auc_val: 0.9844 - 228s/epoch - 94ms/step\n",
            "Epoch 5/100\n",
            " - AUC - did not improve\n",
            "2419/2419 - 228s - loss: 0.0354 - binary_accuracy: 0.9862 - val_loss: 0.0485 - val_binary_accuracy: 0.9816 - roc_auc_val: 0.9832 - 228s/epoch - 94ms/step\n",
            "Epoch 6/100\n",
            " - AUC - did not improve\n",
            "2419/2419 - 226s - loss: 0.0330 - binary_accuracy: 0.9869 - val_loss: 0.0522 - val_binary_accuracy: 0.9823 - roc_auc_val: 0.9831 - 226s/epoch - 94ms/step\n"
          ]
        }
      ]
    },
    {
      "cell_type": "code",
      "source": [
        "import matplotlib.pyplot as plt\n",
        "%matplotlib inline\n",
        "\n",
        "# Visualize history of loss\n",
        "plt.plot(graph.history['loss'])\n",
        "plt.plot(graph.history['val_loss'])\n",
        "plt.title('model loss')\n",
        "plt.ylabel('loss')\n",
        "plt.xlabel('epoch')\n",
        "plt.legend(['train', 'test'], loc='upper left')\n",
        "plt.show()"
      ],
      "metadata": {
        "id": "D_Ma617Rho6j",
        "colab": {
          "base_uri": "https://localhost:8080/",
          "height": 295
        },
        "outputId": "4d5bb19d-60d1-4fb8-f0fb-cb95e248d2bc"
      },
      "execution_count": null,
      "outputs": [
        {
          "output_type": "display_data",
          "data": {
            "text/plain": [
              "<Figure size 432x288 with 1 Axes>"
            ],
            "image/png": "[encoded data removed]"
          },
          "metadata": {
            "needs_background": "light"
          }
        }
      ]
    },
    {
      "cell_type": "code",
      "source": [
        "def convert_text_to_token(text):\n",
        "    token = [text]\n",
        "    token = tokenizer.texts_to_sequences(token)\n",
        "    token = pad_sequences(text, maxlen=max_len, padding='post', truncating='post')\n",
        "    return token\n",
        "\n"
      ],
      "metadata": {
        "id": "9l8IPSIM3kgM"
      },
      "execution_count": null,
      "outputs": []
    },
    {
      "cell_type": "markdown",
      "source": [
        "### Convert the notebook to PDF"
      ],
      "metadata": {
        "id": "0x8CU1nC5rz4"
      }
    },
    {
      "cell_type": "code",
      "source": [
        "%%capture\n",
        "!wget -nc https://raw.githubusercontent.com/brpy/colab-pdf/master/colab_pdf.py\n",
        "from colab_pdf import colab_pdf\n",
        "colab_pdf('toxic_comment_classification.ipynb')"
      ],
      "metadata": {
        "id": "bASEB9SQ5u1J"
      },
      "execution_count": 2,
      "outputs": []
    }
  ]
}